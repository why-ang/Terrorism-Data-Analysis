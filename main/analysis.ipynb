{
 "cells": [
  {
   "cell_type": "markdown",
   "metadata": {},
   "source": [
    "## 第一题"
   ]
  },
  {
   "cell_type": "code",
   "execution_count": 1,
   "metadata": {
    "collapsed": true
   },
   "outputs": [],
   "source": [
    "import xlrd\n",
    "file_path = r'C:/Users/HP/Desktop/kbxj.xlsx'\n",
    "#获取数据\n",
    "data = xlrd.open_workbook(file_path)\n",
    "#获取sheet\n",
    "table = data.sheet_by_name('Data')"
   ]
  },
  {
   "cell_type": "code",
   "execution_count": 6,
   "metadata": {
    "collapsed": true
   },
   "outputs": [],
   "source": [
    "#第一题数据处理\n",
    "def creat_data_1(table):\n",
    "    data = []\n",
    "    nrows = table.nrows\n",
    "    for i in range(2,nrows):\n",
    "        #获取一行的数值\n",
    "        row = []\n",
    "        rowvalue = table.row_values(i)\n",
    "        if rowvalue[5] == '':              #是否持续\n",
    "            rowvalue[5] = 0\n",
    "        row.append(rowvalue[5])\n",
    "        if rowvalue[19] == '':              #是否入选政治宗教\n",
    "            rowvalue[19] = 0\n",
    "        row.append(rowvalue[19])\n",
    "        if rowvalue[20] == '':              #恐吓煽动更多群众\n",
    "            rowvalue[20] = 0\n",
    "        row.append(rowvalue[20])\n",
    "        if rowvalue[21] == '':              #超出人道主义\n",
    "            rowvalue[21] = 0\n",
    "        row.append(rowvalue[21])\n",
    "        if rowvalue[22] == '':              #恐怖主义\n",
    "            rowvalue[22] = 0\n",
    "        row.append(rowvalue[22])\n",
    "        \n",
    "        if rowvalue[28] in [2,3,4]:              #攻击类型   <武装袭击 爆炸  劫持>\n",
    "            rowvalue[28] = 1\n",
    "        else:\n",
    "            rowvalue[28] = 0\n",
    "        row.append(rowvalue[28])\n",
    "    \n",
    "        if rowvalue[81] in [7,8,9,10,11,12,13,14,15,16,17,28,29]:              #武器类型\n",
    "            rowvalue[81] = 1\n",
    "        else:\n",
    "            rowvalue[81] = 0\n",
    "        row.append(rowvalue[81])\n",
    "\n",
    "        if rowvalue[98] =='' :             \n",
    "            rowvalue[98] = 0\n",
    "        elif rowvalue[98] <10 :              #死亡人数      \n",
    "            rowvalue[98] = 1\n",
    "        elif rowvalue[98] <50 :              \n",
    "            rowvalue[98] = 2\n",
    "        elif rowvalue[98] <100 :             \n",
    "            rowvalue[98] = 3\n",
    "        elif rowvalue[98] <300 :              \n",
    "            rowvalue[98] = 4\n",
    "        else :             \n",
    "            rowvalue[98] = 5\n",
    "        row.append(rowvalue[98])   \n",
    "        \n",
    "        if  rowvalue[101] =='':\n",
    "            rowvalue[101] =0\n",
    "        elif rowvalue[101] <10 :              #受伤人数        \n",
    "            rowvalue[101] = 1\n",
    "        elif rowvalue[101] <50 :              \n",
    "            rowvalue[101] = 2\n",
    "        elif rowvalue[101] <100 :              \n",
    "            rowvalue[101] = 3\n",
    "        elif rowvalue[101] <300 :             \n",
    "            rowvalue[101] = 4\n",
    "        else :              \n",
    "            rowvalue[101] = 5\n",
    "        row.append(rowvalue[101])    \n",
    "        \n",
    "        if rowvalue[105] ==1:                      \n",
    "            rowvalue[105] = 5\n",
    "        elif rowvalue[105] ==2 :              \n",
    "            rowvalue[105] = 2\n",
    "        else:              \n",
    "            rowvalue[105] = 1\n",
    "        row.append(rowvalue[105])\n",
    "        data.append(row)\n",
    "    return data"
   ]
  },
  {
   "cell_type": "code",
   "execution_count": 7,
   "metadata": {
    "collapsed": true
   },
   "outputs": [],
   "source": [
    "# 第一题 计算  最大差 和  最小值\n",
    "def mx_mn(data):\n",
    "    mm = []\n",
    "    for i in range(len(data[0])):\n",
    "        m = [0,0]\n",
    "        max = 0\n",
    "        min = 0\n",
    "        for j in range(len(data)):\n",
    "            if data[j][i]>max:\n",
    "                max = data[j][i]\n",
    "            if data[j][i]<min:\n",
    "                min = data[j][i]\n",
    "\n",
    "        max_min = max-min\n",
    "        m[0] = max_min\n",
    "        m[1] = min\n",
    "        mm.append(m)\n",
    "    return mm"
   ]
  },
  {
   "cell_type": "code",
   "execution_count": 8,
   "metadata": {
    "collapsed": true
   },
   "outputs": [],
   "source": [
    "#  第一题数据归一化\n",
    "def redata(data,ls):\n",
    "    for u,i in enumerate(data):\n",
    "        for n,j in enumerate(i):\n",
    "            e = (j-ls[n][1])/ls[n][0]\n",
    "            data[u][n] = e\n",
    "    return data"
   ]
  },
  {
   "cell_type": "code",
   "execution_count": 9,
   "metadata": {
    "collapsed": true
   },
   "outputs": [],
   "source": [
    "# 第一题 聚类\n",
    "from collections import defaultdict\n",
    "from random import uniform\n",
    "from math import sqrt\n",
    "\n",
    "#  加权 欧式距离计算\n",
    "def distance(a,b):\n",
    "    dimention=len(a)\n",
    "    sum=0\n",
    "    for i in range(dimention):\n",
    "        if i<7:\n",
    "            sq=((a[i]-b[i])**2)/16\n",
    "        if i ==7:\n",
    "            sq=5*(a[i]-b[i])**2\n",
    "        if i ==8:\n",
    "            sq=4*(a[i]-b[i])**2\n",
    "        if i == 9:\n",
    "            sq=3*(a[i]-b[i])**2\n",
    "        sum+=sq\n",
    "    return sqrt(sum)\n",
    "\n",
    "# 聚类\n",
    "def assign_points(data_points,centers):\n",
    "    assignments=[]\n",
    "    for point in data_points:\n",
    "        shortest=float('inf')\n",
    "        shortest_index = 0\n",
    "        for i in range(len(centers)):\n",
    "            value=distance(point,centers[i])\n",
    "            if value<shortest:\n",
    "                shortest=value\n",
    "                shortest_index=i\n",
    "        assignments.append(shortest_index)\n",
    "    return assignments\n",
    "\n",
    "def point_avg(points):\n",
    "    dimensions=len(points[0])\n",
    "    new_center=[]\n",
    "    for dimension in range(dimensions):\n",
    "        sum=0\n",
    "        for p in points:\n",
    "            sum+=p[dimension]\n",
    "        new_center.append(float(\"%.8f\"%(sum/float(len(points)))))\n",
    "    return new_center\n",
    "\n",
    "#  更新聚类中心\n",
    "def update_centers(data_set ,assignments,k):\n",
    "    new_means = defaultdict(list)\n",
    "    centers = []\n",
    "    for assignment ,point in zip(assignments , data_set):\n",
    "        new_means[assignment].append(point)\n",
    "    for i in range(k):\n",
    "        points=new_means[i]\n",
    "        centers.append(point_avg(points))\n",
    "    return centers\n",
    "\n",
    "# 迭代 聚类\n",
    "def final_result(data,assignments):\n",
    "    old_assignments=None\n",
    "    while assignments !=old_assignments:\n",
    "        new_centers=update_centers(data,assignments,5)\n",
    "        old_assignments=assignments\n",
    "        assignments=assign_points(data,new_centers)\n",
    "    \n",
    "    return assignments"
   ]
  },
  {
   "cell_type": "code",
   "execution_count": 10,
   "metadata": {
    "collapsed": true
   },
   "outputs": [],
   "source": [
    "data1 = creat_data_1(table)"
   ]
  },
  {
   "cell_type": "code",
   "execution_count": 11,
   "metadata": {
    "collapsed": true
   },
   "outputs": [],
   "source": [
    "mm = mx_mn(data1)"
   ]
  },
  {
   "cell_type": "code",
   "execution_count": 12,
   "metadata": {
    "collapsed": true
   },
   "outputs": [],
   "source": [
    "data1 = redata(data1,mm)"
   ]
  },
  {
   "cell_type": "code",
   "execution_count": 13,
   "metadata": {
    "collapsed": true
   },
   "outputs": [],
   "source": [
    "#自定义聚类中心\n",
    "k_points = [[1,1,0,0,0,0,0,0,0,0],[1,1,0,0,0,0,0,0.2,0.2,0.2],[1,1,1,1,0,0,0,0.4,0.4,0.4],[1,1,1,1,1,1,0,0.6,0.6,0.6],[1,1,1,1,1,1,1,0.8,0.8,0.8]]"
   ]
  },
  {
   "cell_type": "code",
   "execution_count": 14,
   "metadata": {
    "collapsed": true
   },
   "outputs": [],
   "source": [
    "assignments=assign_points(data1,k_points)"
   ]
  },
  {
   "cell_type": "code",
   "execution_count": 15,
   "metadata": {
    "collapsed": true
   },
   "outputs": [],
   "source": [
    "assignments = final_result(data1,assignments)"
   ]
  },
  {
   "cell_type": "code",
   "execution_count": 16,
   "metadata": {
    "collapsed": true
   },
   "outputs": [],
   "source": [
    "def count(ls):\n",
    "    one = 0\n",
    "    two = 0\n",
    "    three = 0\n",
    "    four = 0\n",
    "    five = 0\n",
    "    for i in ls:\n",
    "        if i == 0:\n",
    "            one+=1\n",
    "        elif i==1:\n",
    "            two+=1 \n",
    "        elif i==2:\n",
    "            three+=1 \n",
    "        elif i==3:\n",
    "            four+=1 \n",
    "        else:\n",
    "            five+=1 \n",
    "    return one,two,three,four,five"
   ]
  },
  {
   "cell_type": "code",
   "execution_count": 17,
   "metadata": {
    "collapsed": true
   },
   "outputs": [],
   "source": [
    "one,two,three,four,five = count(assignments)"
   ]
  },
  {
   "cell_type": "code",
   "execution_count": 18,
   "metadata": {},
   "outputs": [
    {
     "data": {
      "text/plain": [
       "(7075, 100731, 5287, 890, 200)"
      ]
     },
     "execution_count": 18,
     "metadata": {},
     "output_type": "execute_result"
    }
   ],
   "source": [
    "one,two,three,four,five"
   ]
  },
  {
   "cell_type": "code",
   "execution_count": 19,
   "metadata": {
    "collapsed": true
   },
   "outputs": [],
   "source": [
    "key = table.col_values(0)[2:]"
   ]
  },
  {
   "cell_type": "code",
   "execution_count": 20,
   "metadata": {
    "collapsed": true
   },
   "outputs": [],
   "source": [
    "# 打包结果\n",
    "label_key = table.col_values(0)[2:]\n",
    "level_result=list(zip(key,assignments))"
   ]
  },
  {
   "cell_type": "code",
   "execution_count": null,
   "metadata": {
    "collapsed": true
   },
   "outputs": [],
   "source": []
  },
  {
   "cell_type": "code",
   "execution_count": 43,
   "metadata": {},
   "outputs": [
    {
     "data": {
      "text/plain": [
       "'199801010001'"
      ]
     },
     "execution_count": 43,
     "metadata": {},
     "output_type": "execute_result"
    }
   ],
   "source": [
    "str(level_result[0][0])[:-2]"
   ]
  },
  {
   "cell_type": "code",
   "execution_count": 47,
   "metadata": {
    "collapsed": true
   },
   "outputs": [],
   "source": [
    "level_results = []\n",
    "for i in level_result:\n",
    "    ll = []\n",
    "    ll.append(str(i[0])[:-2])\n",
    "    ll.append(i[1])\n",
    "    level_results.append(ll)\n",
    "    "
   ]
  },
  {
   "cell_type": "code",
   "execution_count": null,
   "metadata": {
    "collapsed": true
   },
   "outputs": [],
   "source": []
  },
  {
   "cell_type": "code",
   "execution_count": 48,
   "metadata": {
    "collapsed": true
   },
   "outputs": [],
   "source": [
    "from openpyxl import Workbook\n",
    "wb = Workbook()\n",
    "#创建一个sheet\n",
    "ws = wb.create_sheet(\"data\")\n",
    " \n",
    "\n",
    "for i in level_results:\n",
    "    ws.append(i)\n",
    "    \n",
    "    \n",
    "wb.save('myExcelFile.xlsx')"
   ]
  },
  {
   "cell_type": "code",
   "execution_count": null,
   "metadata": {
    "collapsed": true
   },
   "outputs": [],
   "source": []
  },
  {
   "cell_type": "code",
   "execution_count": 20,
   "metadata": {
    "collapsed": true
   },
   "outputs": [],
   "source": [
    "#挑出5级破坏案件并评定破坏分数\n",
    "def level_5_sc(level_result,data):\n",
    "    lev_5 = {}\n",
    "    for j,i in enumerate(level_result):\n",
    "        if i[1] == 4:\n",
    "            se_5 = [0,0]\n",
    "            s= data[j][7]*3 + data[j][8]*2 + data[j][9]*2\n",
    "            lev_5[i[0]] = s\n",
    "    return lev_5"
   ]
  },
  {
   "cell_type": "code",
   "execution_count": 21,
   "metadata": {
    "collapsed": true
   },
   "outputs": [],
   "source": [
    "data_0 = creat_data_1(table)"
   ]
  },
  {
   "cell_type": "code",
   "execution_count": 22,
   "metadata": {
    "collapsed": true
   },
   "outputs": [],
   "source": [
    "_sc_5 = level_5_sc(level_result,data_0)"
   ]
  },
  {
   "cell_type": "code",
   "execution_count": 23,
   "metadata": {
    "collapsed": true
   },
   "outputs": [],
   "source": [
    "sc_sort = sorted(_sc_5.items(),key = lambda item:item[1],reverse = True)"
   ]
  },
  {
   "cell_type": "code",
   "execution_count": 24,
   "metadata": {},
   "outputs": [
    {
     "data": {
      "text/plain": [
       "[(200109110004.0, 35),\n",
       " (200109110005.0, 35),\n",
       " (200109110006.0, 30),\n",
       " (200409010002.0, 27),\n",
       " (201710140002.0, 27),\n",
       " (199808070002.0, 26),\n",
       " (200607120001.0, 26),\n",
       " (200708150005.0, 26),\n",
       " (200708160008.0, 26),\n",
       " (200908190001.0, 26),\n",
       " (200403210001.0, 25),\n",
       " (201607020002.0, 25),\n",
       " (201711240001.0, 25),\n",
       " (200108110012.0, 24),\n",
       " (200210120004.0, 24),\n",
       " (200210120005.0, 24),\n",
       " (200509140001.0, 24),\n",
       " (200703310010.0, 24),\n",
       " (200802010006.0, 24),\n",
       " (201404150089.0, 24),\n",
       " (200403110003.0, 23),\n",
       " (200403110007.0, 23),\n",
       " (200910250001.0, 23),\n",
       " (200910250005.0, 23),\n",
       " (199906190004.0, 22),\n",
       " (200308290001.0, 22),\n",
       " (200403020001.0, 22),\n",
       " (200502280002.0, 22),\n",
       " (200610160001.0, 22),\n",
       " (200611230001.0, 22),\n",
       " (200702030020.0, 22),\n",
       " (200703300001.0, 22),\n",
       " (200703300004.0, 22),\n",
       " (200704180001.0, 22),\n",
       " (200707070001.0, 22),\n",
       " (200710180001.0, 22),\n",
       " (200802170002.0, 22),\n",
       " (200910280029.0, 22),\n",
       " (201005280005.0, 22),\n",
       " (201007090005.0, 22),\n",
       " (201110040009.0, 22),\n",
       " (201411280012.0, 22),\n",
       " (201412160002.0, 22),\n",
       " (201504020031.0, 22),\n",
       " (201506250031.0, 22),\n",
       " (201507180045.0, 22),\n",
       " (201509280037.0, 22),\n",
       " (201510100002.0, 22),\n",
       " (201610030023.0, 22),\n",
       " (200404210002.0, 21),\n",
       " (200507230001.0, 21),\n",
       " (200807070003.0, 21),\n",
       " (200809200008.0, 21),\n",
       " (200906200023.0, 21),\n",
       " (201205100001.0, 21),\n",
       " (201205210002.0, 21),\n",
       " (201603270001.0, 21),\n",
       " (201604190001.0, 21),\n",
       " (201607140001.0, 21),\n",
       " (201702160001.0, 21),\n",
       " (201705310001.0, 21),\n",
       " (201710010018.0, 21),\n",
       " (200205020004.0, 20),\n",
       " (201001010015.0, 20),\n",
       " (201510120034.0, 20),\n",
       " (201704150002.0, 20),\n",
       " (201704210001.0, 20),\n",
       " (201705130011.0, 20),\n",
       " (199903190005.0, 19),\n",
       " (199909040001.0, 19),\n",
       " (199909090002.0, 19),\n",
       " (200212270001.0, 19),\n",
       " (200305120005.0, 19),\n",
       " (200308250001.0, 19),\n",
       " (200402010008.0, 19),\n",
       " (200402010009.0, 19),\n",
       " (200402100001.0, 19),\n",
       " (200403020003.0, 19),\n",
       " (200406240002.0, 19),\n",
       " (200407280003.0, 19),\n",
       " (200412190004.0, 19),\n",
       " (200505040004.0, 19),\n",
       " (200510290010.0, 19),\n",
       " (200511180002.0, 19),\n",
       " (200603120002.0, 19),\n",
       " (200604110005.0, 19),\n",
       " (200607180001.0, 19),\n",
       " (200608140002.0, 19),\n",
       " (200612120001.0, 19),\n",
       " (200701160001.0, 19),\n",
       " (200701220006.0, 19),\n",
       " (200702010001.0, 19),\n",
       " (200702120020.0, 19),\n",
       " (200702180001.0, 19),\n",
       " (200703060002.0, 19),\n",
       " (200703300002.0, 19),\n",
       " (200703300003.0, 19),\n",
       " (200704280003.0, 19),\n",
       " (200706190002.0, 19),\n",
       " (200707180001.0, 19),\n",
       " (200711180021.0, 19),\n",
       " (200712210001.0, 19),\n",
       " (200802010002.0, 19),\n",
       " (200803060005.0, 19),\n",
       " (200808210006.0, 19),\n",
       " (200812110001.0, 19),\n",
       " (200903270005.0, 19),\n",
       " (200904240004.0, 19),\n",
       " (200906240006.0, 19),\n",
       " (200912070006.0, 19),\n",
       " (201003260005.0, 19),\n",
       " (201008170005.0, 19),\n",
       " (201009030001.0, 19),\n",
       " (201101180007.0, 19),\n",
       " (201104030003.0, 19),\n",
       " (201105130007.0, 19),\n",
       " (201108190017.0, 19),\n",
       " (201112060017.0, 19),\n",
       " (201201140007.0, 19),\n",
       " (201302160004.0, 19),\n",
       " (201302210004.0, 19),\n",
       " (201305200063.0, 19),\n",
       " (201309210001.0, 19),\n",
       " (201309220001.0, 19),\n",
       " (201312050016.0, 19),\n",
       " (201403090033.0, 19),\n",
       " (201404140008.0, 19),\n",
       " (201404180010.0, 19),\n",
       " (201411020006.0, 19),\n",
       " (201506030018.0, 19),\n",
       " (201508130001.0, 19),\n",
       " (201511130008.0, 19),\n",
       " (201601070004.0, 19),\n",
       " (201601300024.0, 19),\n",
       " (201607230001.0, 19),\n",
       " (201608080004.0, 19),\n",
       " (201609040013.0, 19),\n",
       " (201610210025.0, 19),\n",
       " (201610240001.0, 19),\n",
       " (201611120002.0, 19),\n",
       " (201612090017.0, 19),\n",
       " (201701180001.0, 19),\n",
       " (201702240010.0, 19),\n",
       " (201710170008.0, 19),\n",
       " (201711040011.0, 19),\n",
       " (201103280011.0, 18),\n",
       " (201302080004.0, 18),\n",
       " (201501300038.0, 18),\n",
       " (201508100061.0, 18),\n",
       " (201601040046.0, 18),\n",
       " (200007020001.0, 17),\n",
       " (200307040003.0, 17),\n",
       " (200402050009.0, 17),\n",
       " (200506060001.0, 17),\n",
       " (200507160001.0, 17),\n",
       " (200509290001.0, 17),\n",
       " (200606150005.0, 17),\n",
       " (200606160003.0, 17),\n",
       " (200607010005.0, 17),\n",
       " (200607170001.0, 17),\n",
       " (200612030013.0, 17),\n",
       " (200612030016.0, 17),\n",
       " (200711060002.0, 17),\n",
       " (200802240001.0, 17),\n",
       " (200806170003.0, 17),\n",
       " (200811260003.0, 17),\n",
       " (200811260006.0, 17),\n",
       " (201010310008.0, 17),\n",
       " (201012060002.0, 17),\n",
       " (201103290015.0, 17),\n",
       " (201107220011.0, 17),\n",
       " (201301100001.0, 17),\n",
       " (201301100002.0, 17),\n",
       " (201303220001.0, 17),\n",
       " (201304030001.0, 17),\n",
       " (201401260022.0, 17),\n",
       " (201407010014.0, 17),\n",
       " (201407020054.0, 17),\n",
       " (201411230009.0, 17),\n",
       " (201411250016.0, 17),\n",
       " (201412310037.0, 17),\n",
       " (201505060078.0, 17),\n",
       " (201507230037.0, 17),\n",
       " (201507230038.0, 17),\n",
       " (201508100002.0, 17),\n",
       " (201509040031.0, 17),\n",
       " (201509070058.0, 17),\n",
       " (201601280038.0, 17),\n",
       " (201602090023.0, 17),\n",
       " (201603060002.0, 17),\n",
       " (201605110023.0, 17),\n",
       " (201606120001.0, 17),\n",
       " (201607070012.0, 17),\n",
       " (201608200001.0, 17),\n",
       " (201611230016.0, 17),\n",
       " (201612180004.0, 17),\n",
       " (201703080004.0, 17),\n",
       " (201710200010.0, 17),\n",
       " (201712140031.0, 17),\n",
       " (201712280001.0, 17)]"
      ]
     },
     "execution_count": 24,
     "metadata": {},
     "output_type": "execute_result"
    }
   ],
   "source": [
    "sc_sort"
   ]
  },
  {
   "cell_type": "markdown",
   "metadata": {},
   "source": [
    "## 第二题"
   ]
  },
  {
   "cell_type": "code",
   "execution_count": 21,
   "metadata": {
    "collapsed": true
   },
   "outputs": [],
   "source": [
    "# 属性标签\n",
    "attribute = [0,5,7,9,19,20,21,22,28,34,40,81,109]"
   ]
  },
  {
   "cell_type": "code",
   "execution_count": 22,
   "metadata": {
    "collapsed": true
   },
   "outputs": [],
   "source": [
    "# 抽取数据\n",
    "def creat_data_2(table):\n",
    "    data = []\n",
    "    nrows = table.nrows\n",
    "    for i in range(2,nrows):\n",
    "        #获取一行数据\n",
    "        rowvalue = table.row_values(i)\n",
    "        if rowvalue[1] in [2015.0,2016.0] and rowvalue[71] == 0.0:\n",
    "            e = []\n",
    "            for j in attribute:\n",
    "                e.append(rowvalue[j])\n",
    "            data.append(e)\n",
    "    return data"
   ]
  },
  {
   "cell_type": "code",
   "execution_count": 23,
   "metadata": {
    "collapsed": true
   },
   "outputs": [],
   "source": [
    "# 相似度 评分\n",
    "def similar(data):\n",
    "    similar_name = []\n",
    "    for t,i in enumerate(data):\n",
    "        szd = {23:[],22:[],21:[],20:[],19:[],18:[]}\n",
    "        for n in data:\n",
    "            if i[0] != n[0]:\n",
    "                count = 0\n",
    "                for j in range(1,len(attribute)):\n",
    "                    if j == 1or j == 12:\n",
    "                        if  i[j] == n[j] == 1:\n",
    "                            count +=3\n",
    "                        elif i[j] == n[j]:\n",
    "                            count +=1\n",
    "                    elif j == 8 or j == 10 or j == 11:\n",
    "                        if i[j] == n[j]:\n",
    "                            count +=2\n",
    "                    elif j == 9:\n",
    "                        count += 5\n",
    "                    else:\n",
    "                        if  i[j] == n[j]:\n",
    "                            count += 1\n",
    "                if count in szd.keys():\n",
    "                    szd[count].append(n[0])\n",
    "        if t%1000 ==0:\n",
    "            print('.................'+str(t))\n",
    "        similar_name.append(szd)\n",
    "    return similar_name"
   ]
  },
  {
   "cell_type": "code",
   "execution_count": 47,
   "metadata": {
    "collapsed": true
   },
   "outputs": [],
   "source": [
    "# 相似案件挑选\n",
    "def select(similar_name):\n",
    "    se = []\n",
    "    for w,i in enumerate(similar_name):\n",
    "\n",
    "        if len(i[23])>0:\n",
    "            se.append(i[23])\n",
    "        if len(i[22])>0:\n",
    "            se.append(i[22])\n",
    "        if len(i[21])>0:\n",
    "            se.append(i[21])\n",
    "        if len(i[20])>0:\n",
    "            se.append(i[20])\n",
    "#         if len(i[19])>0:\n",
    "#             se.append(i[19])\n",
    "        else:\n",
    "            se.append('')\n",
    "    return se"
   ]
  },
  {
   "cell_type": "code",
   "execution_count": 25,
   "metadata": {
    "collapsed": true
   },
   "outputs": [],
   "source": [
    "data2 =  creat_data_2(table)"
   ]
  },
  {
   "cell_type": "code",
   "execution_count": 26,
   "metadata": {},
   "outputs": [
    {
     "name": "stdout",
     "output_type": "stream",
     "text": [
      ".................0\n",
      ".................1000\n",
      ".................2000\n",
      ".................3000\n",
      ".................4000\n",
      ".................5000\n",
      ".................6000\n",
      ".................7000\n",
      ".................8000\n",
      ".................9000\n",
      ".................10000\n",
      ".................11000\n",
      ".................12000\n",
      ".................13000\n",
      ".................14000\n",
      ".................15000\n",
      ".................16000\n",
      ".................17000\n",
      ".................18000\n",
      ".................19000\n",
      ".................20000\n",
      ".................21000\n",
      ".................22000\n"
     ]
    }
   ],
   "source": [
    "similar_name = similar(data2)"
   ]
  },
  {
   "cell_type": "code",
   "execution_count": 48,
   "metadata": {
    "collapsed": true
   },
   "outputs": [],
   "source": [
    "eve_sel = select(similar_name)"
   ]
  },
  {
   "cell_type": "code",
   "execution_count": 30,
   "metadata": {},
   "outputs": [],
   "source": [
    "max_len = 0\n",
    "for i in eve_sel:\n",
    "    if len(i)>max_len:\n",
    "        max_len = len(i)"
   ]
  },
  {
   "cell_type": "code",
   "execution_count": null,
   "metadata": {
    "collapsed": true
   },
   "outputs": [],
   "source": []
  },
  {
   "cell_type": "code",
   "execution_count": 33,
   "metadata": {
    "collapsed": true
   },
   "outputs": [],
   "source": [
    "#打包结果\n",
    "def similar_data(data,eve_sel):\n",
    "    s = {}\n",
    "    for j,i in enumerate(data):\n",
    "        s[data[j][0]] = eve_sel[j]\n",
    "    return s"
   ]
  },
  {
   "cell_type": "code",
   "execution_count": null,
   "metadata": {
    "collapsed": true
   },
   "outputs": [],
   "source": []
  },
  {
   "cell_type": "code",
   "execution_count": 49,
   "metadata": {
    "collapsed": true
   },
   "outputs": [],
   "source": [
    "#打包结果\n",
    "def similar_data(data,eve_sel):\n",
    "    s = []\n",
    "    for j,i in enumerate(data):\n",
    "        ss = []\n",
    "        ss.append(str(data[j][0])[:-2])\n",
    "        for k in eve_sel[j]:\n",
    "            ss.append(str(k)[:-2])\n",
    "        s.append(ss)\n",
    "    return s"
   ]
  },
  {
   "cell_type": "code",
   "execution_count": 50,
   "metadata": {},
   "outputs": [],
   "source": [
    "sim_datas = similar_data(data2,eve_sel)"
   ]
  },
  {
   "cell_type": "code",
   "execution_count": null,
   "metadata": {
    "collapsed": true
   },
   "outputs": [],
   "source": []
  },
  {
   "cell_type": "code",
   "execution_count": 51,
   "metadata": {
    "collapsed": true
   },
   "outputs": [],
   "source": [
    "from openpyxl import Workbook\n",
    "wb = Workbook()\n",
    "#创建一个sheet\n",
    "ws = wb.create_sheet(\"data\")\n",
    " \n",
    "\n",
    "for i in sim_datas:\n",
    "    ws.append(i)\n",
    "    \n",
    "    \n",
    "wb.save('File.xlsx')"
   ]
  },
  {
   "cell_type": "code",
   "execution_count": null,
   "metadata": {
    "collapsed": true
   },
   "outputs": [],
   "source": []
  },
  {
   "cell_type": "code",
   "execution_count": null,
   "metadata": {
    "collapsed": true
   },
   "outputs": [],
   "source": []
  },
  {
   "cell_type": "code",
   "execution_count": null,
   "metadata": {
    "collapsed": true
   },
   "outputs": [],
   "source": []
  },
  {
   "cell_type": "code",
   "execution_count": 240,
   "metadata": {
    "collapsed": true
   },
   "outputs": [],
   "source": [
    "# 15,16年事件 5,4 级破坏评分\n",
    "def number(table,level_result,data):\n",
    "    year = table.col_values(1)[2:]\n",
    "    level_5 = {}\n",
    "    level_4 = {}\n",
    "    for i in range(len(year)):\n",
    "        rowvalue = table.row_values(2+i)\n",
    "        if year[i] in [2015.0,2016.0] and  rowvalue[71] == 0.0:\n",
    "            if level_result[i][1] == 4:\n",
    "                se_5 = [0,0]\n",
    "                s= data[i][7]*3 + data[i][8]*2 + data[i][9]*2\n",
    "                level_5[level_result[i][0]] = s\n",
    "            elif level_result[i][1] == 3:\n",
    "                se_4 = [0,0]\n",
    "                s= data[i][7]*3 + data[i][8]*2 + data[i][9]*2\n",
    "                level_4[level_result[i][0]] = s\n",
    "    return level_5,level_4           "
   ]
  },
  {
   "cell_type": "code",
   "execution_count": 241,
   "metadata": {
    "collapsed": true
   },
   "outputs": [],
   "source": [
    "level_5,level_4 = number(table,level_result,data_0)"
   ]
  },
  {
   "cell_type": "code",
   "execution_count": 242,
   "metadata": {
    "collapsed": true
   },
   "outputs": [],
   "source": [
    "# 排序\n",
    "level_5_sort = sorted(level_5.items(),key = lambda item:item[1],reverse = True)\n",
    "level_4_sort = sorted(level_4.items(),key = lambda item:item[1],reverse = True)"
   ]
  },
  {
   "cell_type": "code",
   "execution_count": 243,
   "metadata": {},
   "outputs": [
    {
     "data": {
      "text/plain": [
       "[(201510100002.0, 22),\n",
       " (201607140001.0, 21),\n",
       " (201612090017.0, 19),\n",
       " (201501300038.0, 18),\n",
       " (201507230037.0, 17),\n",
       " (201507230038.0, 17),\n",
       " (201601280038.0, 17),\n",
       " (201602090023.0, 17),\n",
       " (201608200001.0, 17),\n",
       " (201611230016.0, 17)]"
      ]
     },
     "execution_count": 243,
     "metadata": {},
     "output_type": "execute_result"
    }
   ],
   "source": [
    "level_5_sort"
   ]
  },
  {
   "cell_type": "code",
   "execution_count": 244,
   "metadata": {
    "collapsed": true
   },
   "outputs": [],
   "source": [
    "def le_name(level_45_sort):\n",
    "    l45_name = []\n",
    "    for i in level_45_sort:\n",
    "            l45_name.append(i[0])\n",
    "    return l45_name"
   ]
  },
  {
   "cell_type": "code",
   "execution_count": 245,
   "metadata": {
    "collapsed": true
   },
   "outputs": [],
   "source": [
    "l5_name = le_name(level_5_sort)\n",
    "l4_name = le_name(level_4_sort)"
   ]
  },
  {
   "cell_type": "code",
   "execution_count": 246,
   "metadata": {
    "collapsed": true
   },
   "outputs": [],
   "source": [
    "#  查看危害程度靠前的事件  是否有相似事件  如果有在危害列表中删除其相似的事件\n",
    "def find_5(l5_name,l4_name,sim_datas):\n",
    "    final = []\n",
    "    for i in l5_name:\n",
    "        final.append(i)\n",
    "        for j in sim_datas[i]:\n",
    "            if j in l5_name:\n",
    "                l5_name.remove(j)\n",
    "        if len(final) == 5:\n",
    "            break\n",
    "    if len(final) < 5:\n",
    "        for i in l4_name:\n",
    "            final.append(i)\n",
    "            for j in sim_datas[i]:\n",
    "                if j in l4_name:\n",
    "                    l4_name.remove(j)\n",
    "            if len(final) == 5:\n",
    "                break\n",
    "    return final      "
   ]
  },
  {
   "cell_type": "code",
   "execution_count": 247,
   "metadata": {
    "collapsed": true
   },
   "outputs": [],
   "source": [
    "final5_p = find_5(l5_name,l4_name,sim_datas)"
   ]
  },
  {
   "cell_type": "code",
   "execution_count": 248,
   "metadata": {},
   "outputs": [
    {
     "data": {
      "text/plain": [
       "[201510100002.0,\n",
       " 201607140001.0,\n",
       " 201612090017.0,\n",
       " 201501300038.0,\n",
       " 201507230037.0]"
      ]
     },
     "execution_count": 248,
     "metadata": {},
     "output_type": "execute_result"
    }
   ],
   "source": [
    "final5_p"
   ]
  },
  {
   "cell_type": "code",
   "execution_count": 230,
   "metadata": {},
   "outputs": [
    {
     "data": {
      "text/plain": [
       "[201510100002.0,\n",
       " 201607140001.0,\n",
       " 201612090017.0,\n",
       " 201501300038.0,\n",
       " 201507230037.0]"
      ]
     },
     "execution_count": 230,
     "metadata": {},
     "output_type": "execute_result"
    }
   ],
   "source": [
    "final5_p"
   ]
  },
  {
   "cell_type": "code",
   "execution_count": null,
   "metadata": {
    "collapsed": true
   },
   "outputs": [],
   "source": []
  },
  {
   "cell_type": "code",
   "execution_count": 228,
   "metadata": {
    "collapsed": true
   },
   "outputs": [],
   "source": [
    "aj_17 = [201701090031.0,\n",
    "201702210037.0,\n",
    "201703120023.0,\n",
    "201705050009.0,\n",
    "201705050010.0,\n",
    "201707010028.0,\n",
    "201707020006.0,\n",
    "201708110018.0,\n",
    "201711010006.0,\n",
    "201712010003.0]"
   ]
  },
  {
   "cell_type": "code",
   "execution_count": 201,
   "metadata": {
    "collapsed": true
   },
   "outputs": [],
   "source": [
    "# 抽取数据\n",
    "def creat_data_17(table,aj_17):\n",
    "    data_cl = []\n",
    "    data_js = []\n",
    "    nrows = table.nrows\n",
    "    for i in range(2,nrows):\n",
    "        #获取一行数据\n",
    "        rowvalue = table.row_values(i)\n",
    "        if rowvalue[0] in aj_17:\n",
    "            e = []\n",
    "            for j in attribute:\n",
    "                e.append(rowvalue[j])\n",
    "            data_cl.append(e)\n",
    "        elif rowvalue[0] in final5_p:\n",
    "            e = []\n",
    "            for j in attribute:\n",
    "                e.append(rowvalue[j])\n",
    "            data_js.append(e)\n",
    "    return data_cl,data_js"
   ]
  },
  {
   "cell_type": "code",
   "execution_count": 202,
   "metadata": {
    "collapsed": true
   },
   "outputs": [],
   "source": [
    "data_17,data_js_5p = creat_data_17(table,aj_17)"
   ]
  },
  {
   "cell_type": "code",
   "execution_count": 256,
   "metadata": {},
   "outputs": [
    {
     "data": {
      "text/plain": [
       "[[201701090031.0,\n",
       "  0.0,\n",
       "  95.0,\n",
       "  10.0,\n",
       "  1.0,\n",
       "  1.0,\n",
       "  1.0,\n",
       "  0.0,\n",
       "  3.0,\n",
       "  14.0,\n",
       "  95.0,\n",
       "  6.0,\n",
       "  0.0],\n",
       " [201702210037.0, 0.0, 4.0, 6.0, 1.0, 1.0, 1.0, 0.0, 9.0, 3.0, 4.0, 13.0, 0.0],\n",
       " [201703120023.0,\n",
       "  0.0,\n",
       "  1004.0,\n",
       "  11.0,\n",
       "  1.0,\n",
       "  1.0,\n",
       "  1.0,\n",
       "  0.0,\n",
       "  7.0,\n",
       "  4.0,\n",
       "  1004.0,\n",
       "  8.0,\n",
       "  0.0],\n",
       " [201705050009.0,\n",
       "  0.0,\n",
       "  1004.0,\n",
       "  11.0,\n",
       "  1.0,\n",
       "  1.0,\n",
       "  1.0,\n",
       "  0.0,\n",
       "  2.0,\n",
       "  19.0,\n",
       "  1004.0,\n",
       "  5.0,\n",
       "  0.0],\n",
       " [201705050010.0,\n",
       "  0.0,\n",
       "  1004.0,\n",
       "  11.0,\n",
       "  1.0,\n",
       "  1.0,\n",
       "  1.0,\n",
       "  0.0,\n",
       "  2.0,\n",
       "  19.0,\n",
       "  1004.0,\n",
       "  5.0,\n",
       "  0.0],\n",
       " [201707010028.0,\n",
       "  0.0,\n",
       "  41.0,\n",
       "  11.0,\n",
       "  1.0,\n",
       "  1.0,\n",
       "  1.0,\n",
       "  0.0,\n",
       "  9.0,\n",
       "  14.0,\n",
       "  41.0,\n",
       "  13.0,\n",
       "  0.0],\n",
       " [201707020006.0,\n",
       "  0.0,\n",
       "  200.0,\n",
       "  10.0,\n",
       "  1.0,\n",
       "  1.0,\n",
       "  1.0,\n",
       "  0.0,\n",
       "  3.0,\n",
       "  4.0,\n",
       "  200.0,\n",
       "  6.0,\n",
       "  0.0],\n",
       " [201708110018.0, 0.0, 4.0, 6.0, 1.0, 1.0, 1.0, 0.0, 3.0, 14.0, 4.0, 6.0, 0.0],\n",
       " [201711010006.0, 0.0, 4.0, 6.0, 1.0, 1.0, 1.0, 0.0, 3.0, 19.0, 4.0, 6.0, 0.0],\n",
       " [201712010003.0,\n",
       "  0.0,\n",
       "  95.0,\n",
       "  10.0,\n",
       "  1.0,\n",
       "  1.0,\n",
       "  1.0,\n",
       "  0.0,\n",
       "  3.0,\n",
       "  14.0,\n",
       "  95.0,\n",
       "  6.0,\n",
       "  0.0]]"
      ]
     },
     "execution_count": 256,
     "metadata": {},
     "output_type": "execute_result"
    }
   ],
   "source": [
    "data_17"
   ]
  },
  {
   "cell_type": "code",
   "execution_count": 210,
   "metadata": {},
   "outputs": [
    {
     "data": {
      "text/plain": [
       "[[201501300038.0,\n",
       "  0.0,\n",
       "  37.0,\n",
       "  11.0,\n",
       "  1.0,\n",
       "  1.0,\n",
       "  0.0,\n",
       "  1.0,\n",
       "  3.0,\n",
       "  4.0,\n",
       "  42.0,\n",
       "  6.0,\n",
       "  0.0],\n",
       " [201507230037.0,\n",
       "  0.0,\n",
       "  95.0,\n",
       "  10.0,\n",
       "  1.0,\n",
       "  1.0,\n",
       "  1.0,\n",
       "  0.0,\n",
       "  3.0,\n",
       "  4.0,\n",
       "  95.0,\n",
       "  6.0,\n",
       "  0.0],\n",
       " [201510100002.0,\n",
       "  0.0,\n",
       "  209.0,\n",
       "  10.0,\n",
       "  1.0,\n",
       "  1.0,\n",
       "  1.0,\n",
       "  0.0,\n",
       "  3.0,\n",
       "  14.0,\n",
       "  209.0,\n",
       "  6.0,\n",
       "  0.0],\n",
       " [201607140001.0,\n",
       "  0.0,\n",
       "  69.0,\n",
       "  8.0,\n",
       "  1.0,\n",
       "  1.0,\n",
       "  1.0,\n",
       "  0.0,\n",
       "  2.0,\n",
       "  14.0,\n",
       "  69.0,\n",
       "  5.0,\n",
       "  0.0],\n",
       " [201612090017.0,\n",
       "  0.0,\n",
       "  147.0,\n",
       "  11.0,\n",
       "  1.0,\n",
       "  1.0,\n",
       "  1.0,\n",
       "  0.0,\n",
       "  3.0,\n",
       "  14.0,\n",
       "  147.0,\n",
       "  6.0,\n",
       "  0.0]]"
      ]
     },
     "execution_count": 210,
     "metadata": {},
     "output_type": "execute_result"
    }
   ],
   "source": [
    "data_js_5p"
   ]
  },
  {
   "cell_type": "code",
   "execution_count": 257,
   "metadata": {
    "collapsed": true
   },
   "outputs": [],
   "source": [
    "# 相似度 评分\n",
    "def similar_17(data_17,data_js_5p):\n",
    "    similar_name = []\n",
    "    for t,i in enumerate(data_17):\n",
    "        szd = {23:[],22:[],21:[],20:[],19:[],18:[],17:[],16:[]}\n",
    "        for n in data_js_5p:\n",
    "            if i[0] != n[0]:\n",
    "                count = 0\n",
    "                for j in range(1,len(attribute)):\n",
    "                    if j == 1or j == 12:\n",
    "                        if  i[j] == n[j] == 1:\n",
    "                            count +=3\n",
    "                        elif i[j] == n[j]:\n",
    "                            count +=1\n",
    "                    elif j == 8 or j == 10 or j == 11:\n",
    "                        if i[j] == n[j]:\n",
    "                            count +=2\n",
    "                    elif j == 9:\n",
    "                        count += 5\n",
    "                    else:\n",
    "                        if  i[j] == n[j]:\n",
    "                            count += 1\n",
    "                if count in szd.keys():\n",
    "                    szd[count].append(n[0])\n",
    "        similar_name.append(szd)\n",
    "    return similar_name"
   ]
  },
  {
   "cell_type": "code",
   "execution_count": 258,
   "metadata": {
    "collapsed": true
   },
   "outputs": [],
   "source": [
    "similar_17_name = similar_17(data_17,data_js_5p)"
   ]
  },
  {
   "cell_type": "code",
   "execution_count": 259,
   "metadata": {},
   "outputs": [
    {
     "data": {
      "text/plain": [
       "[{16: [201510100002.0],\n",
       "  17: [],\n",
       "  18: [],\n",
       "  19: [201507230037.0],\n",
       "  20: [],\n",
       "  21: [],\n",
       "  22: [],\n",
       "  23: []},\n",
       " {16: [], 17: [], 18: [], 19: [], 20: [], 21: [], 22: [], 23: []},\n",
       " {16: [], 17: [], 18: [], 19: [], 20: [], 21: [], 22: [], 23: []},\n",
       " {16: [], 17: [], 18: [], 19: [], 20: [], 21: [], 22: [], 23: []},\n",
       " {16: [], 17: [], 18: [], 19: [], 20: [], 21: [], 22: [], 23: []},\n",
       " {16: [], 17: [], 18: [], 19: [], 20: [], 21: [], 22: [], 23: []},\n",
       " {16: [201507230037.0, 201510100002.0],\n",
       "  17: [],\n",
       "  18: [],\n",
       "  19: [],\n",
       "  20: [],\n",
       "  21: [],\n",
       "  22: [],\n",
       "  23: []},\n",
       " {16: [], 17: [], 18: [], 19: [], 20: [], 21: [], 22: [], 23: []},\n",
       " {16: [], 17: [], 18: [], 19: [], 20: [], 21: [], 22: [], 23: []},\n",
       " {16: [201510100002.0],\n",
       "  17: [],\n",
       "  18: [],\n",
       "  19: [201507230037.0],\n",
       "  20: [],\n",
       "  21: [],\n",
       "  22: [],\n",
       "  23: []}]"
      ]
     },
     "execution_count": 259,
     "metadata": {},
     "output_type": "execute_result"
    }
   ],
   "source": [
    "similar_17_name"
   ]
  },
  {
   "cell_type": "code",
   "execution_count": null,
   "metadata": {
    "collapsed": true
   },
   "outputs": [],
   "source": []
  }
 ],
 "metadata": {
  "kernelspec": {
   "display_name": "Python 3",
   "language": "python",
   "name": "python3"
  },
  "language_info": {
   "codemirror_mode": {
    "name": "ipython",
    "version": 3
   },
   "file_extension": ".py",
   "mimetype": "text/x-python",
   "name": "python",
   "nbconvert_exporter": "python",
   "pygments_lexer": "ipython3",
   "version": "3.6.2"
  }
 },
 "nbformat": 4,
 "nbformat_minor": 2
}
