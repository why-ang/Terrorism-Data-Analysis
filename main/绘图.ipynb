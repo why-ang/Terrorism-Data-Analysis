{
 "cells": [
  {
   "cell_type": "code",
   "execution_count": 8,
   "metadata": {
    "collapsed": true
   },
   "outputs": [],
   "source": [
    "import pygal.maps.world\n",
    "\n",
    "worldmap_chart = pygal.maps.world.World()\n",
    "worldmap_chart.title = 'Some countries'\n",
    "worldmap_chart.add('F countries', ['fr', 'fi'])\n",
    "\n",
    "worldmap_chart.add('U countries', ['ua', 'ug', 'us', 'uy', 'uz'])\n",
    "worldmap_chart.render_to_file('bar_chart.svg')"
   ]
  },
  {
   "cell_type": "code",
   "execution_count": null,
   "metadata": {
    "collapsed": true
   },
   "outputs": [],
   "source": []
  },
  {
   "cell_type": "code",
   "execution_count": null,
   "metadata": {
    "collapsed": true
   },
   "outputs": [],
   "source": [
    "import xlrd\n",
    "file_path = r'C:/Users/HP/Desktop/kbxj.xlsx'\n",
    "#获取数据\n",
    "data = xlrd.open_workbook(file_path)\n",
    "#获取sheet\n",
    "table = data.sheet_by_name('Data')\n",
    "\n",
    "count = table.col_values(8)[2:]\n",
    "\n",
    "counts = set(count)\n",
    "data_count= {}\n",
    "for item in counts:\n",
    "    data_count.update({item:count.count(item)})\n",
    "\n",
    "from pygal_maps_world.i18n import COUNTRIES\n",
    "\n",
    "for i in counts\n",
    "\n",
    "def get_country_code(country_name):\n",
    "    \"\"\"\n",
    "    根据国家名返回两位国别码\n",
    "    \"\"\"\n",
    "    for code, name in COUNTRIES.items():\n",
    "        if name == country_name:\n",
    "            return code\n",
    "    return None\n",
    "\n",
    "c_kx = {}\n",
    "for country_name in data_count.keys():\n",
    "    count = data_count[country_name]\n",
    "    code = get_country_code(country_name)\n",
    "    if code:\n",
    "        c_kx[code] = count\n",
    "\n",
    "lc_kx = []\n",
    "for i in c_kx.keys():\n",
    "    d = {}\n",
    "    d[i] = c_kx[i]\n",
    "    lc_kx.append(d)\n",
    "\n",
    "\n",
    "\n",
    "cc_pops_1,cc_pops_2,cc_pops_3 ,cc_pops_4,cc_pops_5,= {},{},{},{},{},{}\n",
    "for cc,pop in c_kx.items():\n",
    "    if pop < 50:\n",
    "        cc_pops_1[cc] = pop\n",
    "    elif pop < 100:\n",
    "        cc_pops_2[cc] = pop\n",
    "    elif pop < 500:\n",
    "        cc_pops_3[cc] = pop\n",
    "    elif pop < 1000:\n",
    "        cc_pops_5[cc] = pop\n",
    "    else:\n",
    "        cc_pops_6[cc] = pop\n",
    "\n",
    "\n",
    "\n",
    "import json\n",
    "from pygal_maps_world.maps import World\n",
    "#Pygal样式保存在模块style中，包括RotateStyle调整颜色和LightColorizedStyle加亮颜色\n",
    "#也可以写成from pygal.style import LightColorizedStyle, RotateStyle\n",
    "from pygal.style import RotateStyle\n",
    "from pygal.style import LightColorizedStyle\n",
    "\n",
    "#wm_style = RotateStyle('#BB3377')#, base_style=LightColorizedStyle)\n",
    "\n",
    "\n",
    "\n",
    "#world = pygal.maps.world.World(style=wm_style)\n",
    "\n",
    "world = pygal.maps.world.World()\n",
    "world.title = 'World map, By Country'\n",
    "world.add('<50', cc_pops_1)\n",
    "world.add('<100', cc_pops_2)\n",
    "world.add('<300', cc_pops_3)\n",
    "world.add('<500', cc_pops_4)\n",
    "world.add('<1000', cc_pops_5)\n",
    "world.add('>1000', cc_pops_6)\n",
    "\n",
    "world.render_to_file('world_population_2015.svg')\n"
   ]
  },
  {
   "cell_type": "code",
   "execution_count": null,
   "metadata": {
    "collapsed": true
   },
   "outputs": [],
   "source": []
  },
  {
   "cell_type": "code",
   "execution_count": null,
   "metadata": {
    "collapsed": true
   },
   "outputs": [],
   "source": []
  },
  {
   "cell_type": "code",
   "execution_count": null,
   "metadata": {
    "collapsed": true
   },
   "outputs": [],
   "source": []
  },
  {
   "cell_type": "code",
   "execution_count": null,
   "metadata": {
    "collapsed": true
   },
   "outputs": [],
   "source": []
  },
  {
   "cell_type": "code",
   "execution_count": null,
   "metadata": {
    "collapsed": true
   },
   "outputs": [],
   "source": []
  }
 ],
 "metadata": {
  "kernelspec": {
   "display_name": "Python 3",
   "language": "python",
   "name": "python3"
  },
  "language_info": {
   "codemirror_mode": {
    "name": "ipython",
    "version": 3
   },
   "file_extension": ".py",
   "mimetype": "text/x-python",
   "name": "python",
   "nbconvert_exporter": "python",
   "pygments_lexer": "ipython3",
   "version": "3.6.2"
  }
 },
 "nbformat": 4,
 "nbformat_minor": 2
}
